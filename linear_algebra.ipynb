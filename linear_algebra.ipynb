{
 "cells": [
  {
   "cell_type": "code",
   "id": "initial_id",
   "metadata": {
    "collapsed": true,
    "ExecuteTime": {
     "end_time": "2025-02-06T14:13:09.595259Z",
     "start_time": "2025-02-06T14:13:09.589095Z"
    }
   },
   "source": [
    "import numpy as np\n",
    "\n",
    "co = np.array([[1,2,3],[4,5,6],[7,8,9]])\n",
    "re = np.array([[1,2,3],[4,5,6],[7,8,9]])\n",
    "type((co.T * re.T))\n",
    "np.reshape(co,(1,9)).T"
   ],
   "outputs": [
    {
     "data": {
      "text/plain": [
       "array([[1],\n",
       "       [2],\n",
       "       [3],\n",
       "       [4],\n",
       "       [5],\n",
       "       [6],\n",
       "       [7],\n",
       "       [8],\n",
       "       [9]])"
      ]
     },
     "execution_count": 35,
     "metadata": {},
     "output_type": "execute_result"
    }
   ],
   "execution_count": 35
  },
  {
   "metadata": {
    "ExecuteTime": {
     "end_time": "2025-02-06T14:21:02.194040Z",
     "start_time": "2025-02-06T14:21:02.187875Z"
    }
   },
   "cell_type": "code",
   "source": [
    "a = np.random.randint(1,100,size=[10,3])\n",
    "print(a)\n",
    "# 取出0，3行的数据\n",
    "a[[0,3]]\n",
    "# 取出第一列的数据\n",
    "a[:,0:1]\n",
    "# 取出第0,2列的数据\n",
    "a[:,[0,2]]\n",
    "# 取出第1行,2列的数据\n",
    "a[1,2]"
   ],
   "id": "271f78f43724cab",
   "outputs": [
    {
     "name": "stdout",
     "output_type": "stream",
     "text": [
      "[[36 37  4]\n",
      " [92 98 41]\n",
      " [ 6 90 64]\n",
      " [17  6 99]\n",
      " [96 71 12]\n",
      " [13 22 84]\n",
      " [30 52 48]\n",
      " [32  9 66]\n",
      " [92 75 17]\n",
      " [82 61 70]]\n"
     ]
    },
    {
     "data": {
      "text/plain": [
       "41"
      ]
     },
     "execution_count": 74,
     "metadata": {},
     "output_type": "execute_result"
    }
   ],
   "execution_count": 74
  },
  {
   "metadata": {
    "ExecuteTime": {
     "end_time": "2025-02-06T14:23:59.691827Z",
     "start_time": "2025-02-06T14:23:59.684850Z"
    }
   },
   "cell_type": "code",
   "source": [
    "# 范围0-1\n",
    "b = np.random.random((2,3))\n",
    "# 范围2-300\n",
    "c = np.random.randint(2,300,size=(2,3))\n",
    "c"
   ],
   "id": "707fd36b0e9c2f5b",
   "outputs": [
    {
     "data": {
      "text/plain": [
       "array([[110,  46, 199],\n",
       "       [ 96, 150, 117]])"
      ]
     },
     "execution_count": 87,
     "metadata": {},
     "output_type": "execute_result"
    }
   ],
   "execution_count": 87
  },
  {
   "metadata": {
    "ExecuteTime": {
     "end_time": "2025-02-06T14:25:51.741888Z",
     "start_time": "2025-02-06T14:25:51.736068Z"
    }
   },
   "cell_type": "code",
   "source": [
    "jjj = np.array([[1,2,3],[4,5,6],[7,8,9]])\n",
    "# -1可以自动计算行或列\n",
    "jjj.reshape(-1,3)\n",
    "jjj.reshape(3,-1)\n"
   ],
   "id": "f38c3fea41e61088",
   "outputs": [
    {
     "data": {
      "text/plain": [
       "array([[1, 2, 3],\n",
       "       [4, 5, 6],\n",
       "       [7, 8, 9]])"
      ]
     },
     "execution_count": 97,
     "metadata": {},
     "output_type": "execute_result"
    }
   ],
   "execution_count": 97
  },
  {
   "metadata": {
    "ExecuteTime": {
     "end_time": "2025-02-06T14:27:47.840623Z",
     "start_time": "2025-02-06T14:27:47.835660Z"
    }
   },
   "cell_type": "code",
   "source": [
    "oo = np.zeros([3,3])\n",
    "oo\n"
   ],
   "id": "90eb1a4f84374302",
   "outputs": [
    {
     "data": {
      "text/plain": [
       "array([[0., 0., 0.],\n",
       "       [0., 0., 0.],\n",
       "       [0., 0., 0.]])"
      ]
     },
     "execution_count": 103,
     "metadata": {},
     "output_type": "execute_result"
    }
   ],
   "execution_count": 103
  },
  {
   "metadata": {
    "ExecuteTime": {
     "end_time": "2025-02-06T14:28:45.601166Z",
     "start_time": "2025-02-06T14:28:45.595542Z"
    }
   },
   "cell_type": "code",
   "source": "np.identity(100)",
   "id": "d81a87675c47f454",
   "outputs": [
    {
     "data": {
      "text/plain": [
       "array([[1., 0., 0., ..., 0., 0., 0.],\n",
       "       [0., 1., 0., ..., 0., 0., 0.],\n",
       "       [0., 0., 1., ..., 0., 0., 0.],\n",
       "       ...,\n",
       "       [0., 0., 0., ..., 1., 0., 0.],\n",
       "       [0., 0., 0., ..., 0., 1., 0.],\n",
       "       [0., 0., 0., ..., 0., 0., 1.]])"
      ]
     },
     "execution_count": 107,
     "metadata": {},
     "output_type": "execute_result"
    }
   ],
   "execution_count": 107
  },
  {
   "metadata": {
    "ExecuteTime": {
     "end_time": "2025-02-06T14:33:33.410603Z",
     "start_time": "2025-02-06T14:33:33.406613Z"
    }
   },
   "cell_type": "code",
   "source": [
    "a = [1,2,3,4,5,6,7,8,9]\n",
    "np.diag(a)\n",
    "np.diag(np.diag(a))"
   ],
   "id": "2857ebc4f5e806d2",
   "outputs": [
    {
     "data": {
      "text/plain": [
       "array([1, 2, 3, 4, 5, 6, 7, 8, 9])"
      ]
     },
     "execution_count": 110,
     "metadata": {},
     "output_type": "execute_result"
    }
   ],
   "execution_count": 110
  },
  {
   "metadata": {
    "ExecuteTime": {
     "end_time": "2025-02-06T14:35:50.510979Z",
     "start_time": "2025-02-06T14:35:50.503993Z"
    }
   },
   "cell_type": "code",
   "source": [
    "a = np.identity(3)\n",
    "b = np.array([1,0,0,0,1,0,0,0,1])\n",
    "np.allclose(a,b.reshape(3,-1))"
   ],
   "id": "7b10caa6569fc3f5",
   "outputs": [
    {
     "data": {
      "text/plain": [
       "True"
      ]
     },
     "execution_count": 117,
     "metadata": {},
     "output_type": "execute_result"
    }
   ],
   "execution_count": 117
  },
  {
   "metadata": {
    "ExecuteTime": {
     "end_time": "2025-02-06T14:51:22.243846Z",
     "start_time": "2025-02-06T14:51:22.239972Z"
    }
   },
   "cell_type": "code",
   "source": [
    "a = np.array([[1,2,3],[4,5,6],[7,8,9]])\n",
    "b = np.array([[1,2,3],[4,5,6],[7,8,9]]).T\n",
    "# np.dot(a,b)\n",
    "# a*b\n",
    "np.multiply(a,b)\n"
   ],
   "id": "72c40ae7c5e266bb",
   "outputs": [
    {
     "data": {
      "text/plain": [
       "array([[ 1,  8, 21],\n",
       "       [ 8, 25, 48],\n",
       "       [21, 48, 81]])"
      ]
     },
     "execution_count": 144,
     "metadata": {},
     "output_type": "execute_result"
    }
   ],
   "execution_count": 144
  },
  {
   "metadata": {
    "ExecuteTime": {
     "end_time": "2025-02-06T14:54:08.798521Z",
     "start_time": "2025-02-06T14:54:08.791336Z"
    }
   },
   "cell_type": "code",
   "source": [
    "a = np.mat([[1,2,3],[4,5,6],[7,8,9]])\n",
    "b = np.mat([[1,2,3],[4,5,6],[7,8,9]])\n",
    "np.dot(a,b)\n",
    "a*b"
   ],
   "id": "8b194fe9d4c6e912",
   "outputs": [
    {
     "data": {
      "text/plain": [
       "matrix([[ 30,  36,  42],\n",
       "        [ 66,  81,  96],\n",
       "        [102, 126, 150]])"
      ]
     },
     "execution_count": 152,
     "metadata": {},
     "output_type": "execute_result"
    }
   ],
   "execution_count": 152
  },
  {
   "metadata": {
    "ExecuteTime": {
     "end_time": "2025-02-06T15:03:10.168552Z",
     "start_time": "2025-02-06T15:03:10.160579Z"
    }
   },
   "cell_type": "code",
   "source": [
    "a = np.array([[1,2,3],[4,5,6]])\n",
    "b = np.array([[1],[2],[3]]).T\n",
    "c = np.array([[1,34,5]]).T\n",
    "# np.dot(a,b)\n",
    "c\n",
    "np.dot(a,c)"
   ],
   "id": "cb6ba254dba777b7",
   "outputs": [
    {
     "data": {
      "text/plain": [
       "array([[ 84],\n",
       "       [204]])"
      ]
     },
     "execution_count": 194,
     "metadata": {},
     "output_type": "execute_result"
    }
   ],
   "execution_count": 194
  },
  {
   "metadata": {
    "ExecuteTime": {
     "end_time": "2025-02-06T15:08:31.828871Z",
     "start_time": "2025-02-06T15:08:31.824289Z"
    }
   },
   "cell_type": "code",
   "source": [
    "a = np.mat([[1,2,3],[4,5,6],[7,8,9]])\n",
    "a**3\n",
    "np.power(a,3)"
   ],
   "id": "4adfef409733ee8c",
   "outputs": [
    {
     "data": {
      "text/plain": [
       "matrix([[  1,   8,  27],\n",
       "        [ 64, 125, 216],\n",
       "        [343, 512, 729]], dtype=int32)"
      ]
     },
     "execution_count": 200,
     "metadata": {},
     "output_type": "execute_result"
    }
   ],
   "execution_count": 200
  },
  {
   "metadata": {
    "ExecuteTime": {
     "end_time": "2025-02-06T15:13:03.316895Z",
     "start_time": "2025-02-06T15:13:03.311178Z"
    }
   },
   "cell_type": "code",
   "source": [
    "A = np.array([[1, 2], [3, 4]])\n",
    "n = 2\n",
    "\n",
    "# 矩阵的乘方\n",
    "A_n = np.linalg.matrix_power(A, n)\n",
    "np.mat(A)**n\n",
    "print(\"矩阵的乘方 A^2:\\n\", A_n)\n",
    "np.mat(A)**n\n",
    "\n",
    "\n",
    "A**2\n",
    "np.power(A,2)"
   ],
   "id": "8f64edf0d53b4d1b",
   "outputs": [
    {
     "name": "stdout",
     "output_type": "stream",
     "text": [
      "矩阵的乘方 A^2:\n",
      " [[ 7 10]\n",
      " [15 22]]\n"
     ]
    },
    {
     "data": {
      "text/plain": [
       "array([[ 1,  4],\n",
       "       [ 9, 16]], dtype=int32)"
      ]
     },
     "execution_count": 214,
     "metadata": {},
     "output_type": "execute_result"
    }
   ],
   "execution_count": 214
  },
  {
   "metadata": {
    "ExecuteTime": {
     "end_time": "2025-02-07T13:22:01.121933Z",
     "start_time": "2025-02-07T13:22:00.763605Z"
    }
   },
   "cell_type": "code",
   "source": [
    "a = np.mat([[1,2,3],[4,5,6],[7,8,9]])\n",
    "b = np.array([[1,2,3],[4,5,6],[7,8,9]])\n",
    "a.I"
   ],
   "id": "79a50aebd2683510",
   "outputs": [
    {
     "ename": "NameError",
     "evalue": "name 'np' is not defined",
     "output_type": "error",
     "traceback": [
      "\u001B[1;31m---------------------------------------------------------------------------\u001B[0m",
      "\u001B[1;31mNameError\u001B[0m                                 Traceback (most recent call last)",
      "Cell \u001B[1;32mIn[1], line 1\u001B[0m\n\u001B[1;32m----> 1\u001B[0m a \u001B[38;5;241m=\u001B[39m np\u001B[38;5;241m.\u001B[39mmat([[\u001B[38;5;241m1\u001B[39m,\u001B[38;5;241m2\u001B[39m,\u001B[38;5;241m3\u001B[39m],[\u001B[38;5;241m4\u001B[39m,\u001B[38;5;241m5\u001B[39m,\u001B[38;5;241m6\u001B[39m],[\u001B[38;5;241m7\u001B[39m,\u001B[38;5;241m8\u001B[39m,\u001B[38;5;241m9\u001B[39m]])\n\u001B[0;32m      2\u001B[0m b \u001B[38;5;241m=\u001B[39m np\u001B[38;5;241m.\u001B[39marray([[\u001B[38;5;241m1\u001B[39m,\u001B[38;5;241m2\u001B[39m,\u001B[38;5;241m3\u001B[39m],[\u001B[38;5;241m4\u001B[39m,\u001B[38;5;241m5\u001B[39m,\u001B[38;5;241m6\u001B[39m],[\u001B[38;5;241m7\u001B[39m,\u001B[38;5;241m8\u001B[39m,\u001B[38;5;241m9\u001B[39m]])\n\u001B[0;32m      3\u001B[0m a\u001B[38;5;241m.\u001B[39mI\n",
      "\u001B[1;31mNameError\u001B[0m: name 'np' is not defined"
     ]
    }
   ],
   "execution_count": 1
  },
  {
   "metadata": {
    "ExecuteTime": {
     "end_time": "2025-02-07T13:27:03.918837Z",
     "start_time": "2025-02-07T13:27:03.914097Z"
    }
   },
   "cell_type": "code",
   "source": [
    "\n",
    "import numpy as np\n",
    "\n",
    "n = 3  # 矩阵尺寸\n",
    "\n",
    "# 生成随机矩阵\n",
    "\n",
    "matrix = np.random.rand(n, n)\n",
    "\n",
    "# 生成对称矩阵\n",
    "\n",
    "a = (matrix + matrix.T) / 2\n",
    "type(a == a.T)\n",
    "a == a.T\n",
    "\n",
    "# 生成逆矩阵\n",
    "np.mat(a).I\n"
   ],
   "id": "961a67040545c5b",
   "outputs": [
    {
     "data": {
      "text/plain": [
       "matrix([[ 3.20249407,  1.1192169 , -4.65888391],\n",
       "        [ 1.1192169 ,  3.5711417 , -4.50415283],\n",
       "        [-4.65888391, -4.50415283, 11.74740878]])"
      ]
     },
     "execution_count": 21,
     "metadata": {},
     "output_type": "execute_result"
    }
   ],
   "execution_count": 21
  },
  {
   "metadata": {
    "ExecuteTime": {
     "end_time": "2025-02-07T13:37:01.172413Z",
     "start_time": "2025-02-07T13:37:01.153375Z"
    }
   },
   "cell_type": "code",
   "source": [
    "a = np.array([\n",
    "    [1, -4, 0, 2],\n",
    "    [-1, 2, -1,-1],\n",
    "    [1, -2, 3, 5],\n",
    "    [2, -6, 1 ,3]\n",
    "])\n",
    "b = np.zeros((3,3))\n",
    "a\n",
    "np.dot(np.linalg.inv(a),a.T)\n"
   ],
   "id": "a399f3bb24ce0e5b",
   "outputs": [
    {
     "ename": "LinAlgError",
     "evalue": "Singular matrix",
     "output_type": "error",
     "traceback": [
      "\u001B[1;31m---------------------------------------------------------------------------\u001B[0m",
      "\u001B[1;31mLinAlgError\u001B[0m                               Traceback (most recent call last)",
      "Cell \u001B[1;32mIn[49], line 9\u001B[0m\n\u001B[0;32m      7\u001B[0m b \u001B[38;5;241m=\u001B[39m np\u001B[38;5;241m.\u001B[39mzeros((\u001B[38;5;241m3\u001B[39m,\u001B[38;5;241m3\u001B[39m))\n\u001B[0;32m      8\u001B[0m a\n\u001B[1;32m----> 9\u001B[0m np\u001B[38;5;241m.\u001B[39mdot(np\u001B[38;5;241m.\u001B[39mlinalg\u001B[38;5;241m.\u001B[39minv(a),a\u001B[38;5;241m.\u001B[39mT)\n",
      "File \u001B[1;32m~\\anaconda3\\envs\\tensorflow\\Lib\\site-packages\\numpy\\linalg\\linalg.py:561\u001B[0m, in \u001B[0;36minv\u001B[1;34m(a)\u001B[0m\n\u001B[0;32m    559\u001B[0m signature \u001B[38;5;241m=\u001B[39m \u001B[38;5;124m'\u001B[39m\u001B[38;5;124mD->D\u001B[39m\u001B[38;5;124m'\u001B[39m \u001B[38;5;28;01mif\u001B[39;00m isComplexType(t) \u001B[38;5;28;01melse\u001B[39;00m \u001B[38;5;124m'\u001B[39m\u001B[38;5;124md->d\u001B[39m\u001B[38;5;124m'\u001B[39m\n\u001B[0;32m    560\u001B[0m extobj \u001B[38;5;241m=\u001B[39m get_linalg_error_extobj(_raise_linalgerror_singular)\n\u001B[1;32m--> 561\u001B[0m ainv \u001B[38;5;241m=\u001B[39m _umath_linalg\u001B[38;5;241m.\u001B[39minv(a, signature\u001B[38;5;241m=\u001B[39msignature, extobj\u001B[38;5;241m=\u001B[39mextobj)\n\u001B[0;32m    562\u001B[0m \u001B[38;5;28;01mreturn\u001B[39;00m wrap(ainv\u001B[38;5;241m.\u001B[39mastype(result_t, copy\u001B[38;5;241m=\u001B[39m\u001B[38;5;28;01mFalse\u001B[39;00m))\n",
      "File \u001B[1;32m~\\anaconda3\\envs\\tensorflow\\Lib\\site-packages\\numpy\\linalg\\linalg.py:112\u001B[0m, in \u001B[0;36m_raise_linalgerror_singular\u001B[1;34m(err, flag)\u001B[0m\n\u001B[0;32m    111\u001B[0m \u001B[38;5;28;01mdef\u001B[39;00m \u001B[38;5;21m_raise_linalgerror_singular\u001B[39m(err, flag):\n\u001B[1;32m--> 112\u001B[0m     \u001B[38;5;28;01mraise\u001B[39;00m LinAlgError(\u001B[38;5;124m\"\u001B[39m\u001B[38;5;124mSingular matrix\u001B[39m\u001B[38;5;124m\"\u001B[39m)\n",
      "\u001B[1;31mLinAlgError\u001B[0m: Singular matrix"
     ]
    }
   ],
   "execution_count": 49
  },
  {
   "metadata": {
    "ExecuteTime": {
     "end_time": "2025-02-07T14:10:28.373624Z",
     "start_time": "2025-02-07T14:10:28.369129Z"
    }
   },
   "cell_type": "code",
   "source": [
    "a = np.array([[1,2,3],[4,5,6],[7,8,9]])\n",
    "a\n",
    "np.linalg.det(a)"
   ],
   "id": "78ca5b344a737009",
   "outputs": [
    {
     "data": {
      "text/plain": [
       "-9.51619735392994e-16"
      ]
     },
     "execution_count": 54,
     "metadata": {},
     "output_type": "execute_result"
    }
   ],
   "execution_count": 54
  },
  {
   "metadata": {
    "ExecuteTime": {
     "end_time": "2025-02-07T14:21:45.802364Z",
     "start_time": "2025-02-07T14:21:45.797380Z"
    }
   },
   "cell_type": "code",
   "source": [
    "v1 = np.array([1, 2, 3])\n",
    "v2 = np.array([4, 5, 6])\n",
    "v3 = np.array([7, 8, 9])\n",
    "\n",
    "# 将向量作为矩阵的列\n",
    "matrix = np.column_stack((v1, v2, v3))\n",
    "matrix\n",
    "det = np.linalg.det(matrix)\n",
    "det\n",
    "rank = np.linalg.matrix_rank(matrix)\n",
    "matrix.shape[1]"
   ],
   "id": "d95fed6ac48e8519",
   "outputs": [
    {
     "data": {
      "text/plain": [
       "3"
      ]
     },
     "execution_count": 63,
     "metadata": {},
     "output_type": "execute_result"
    }
   ],
   "execution_count": 63
  },
  {
   "metadata": {
    "ExecuteTime": {
     "end_time": "2025-02-07T15:00:44.011019Z",
     "start_time": "2025-02-07T15:00:44.007163Z"
    }
   },
   "cell_type": "code",
   "source": [
    "import numpy as np\n",
    "\n",
    "# 定义一个矩阵\n",
    "matrix = np.array([\n",
    "    [1, 2, 3],\n",
    "    [2, 4, 6],\n",
    "    [3, 2, 1]\n",
    "])\n",
    "\n",
    "# 计算矩阵的秩\n",
    "rank = np.linalg.matrix_rank(matrix)\n",
    "\n",
    "print(\"矩阵：\")\n",
    "print(matrix)\n",
    "print(\"\\n矩阵的秩：\", rank)"
   ],
   "id": "d1f63e871641b4a1",
   "outputs": [
    {
     "name": "stdout",
     "output_type": "stream",
     "text": [
      "矩阵：\n",
      "[[1 2 3]\n",
      " [2 4 6]\n",
      " [3 2 1]]\n",
      "\n",
      "矩阵的秩： 2\n"
     ]
    }
   ],
   "execution_count": 70
  },
  {
   "metadata": {
    "ExecuteTime": {
     "end_time": "2025-02-07T15:08:53.559700Z",
     "start_time": "2025-02-07T15:08:53.554716Z"
    }
   },
   "cell_type": "code",
   "source": [
    "a = np.array([[1,2,3]])\n",
    "b = np.array([[4,5,6]])\n",
    "np.dot(a.T,b)\n",
    "np.linalg.norm(b)"
   ],
   "id": "5864a56b97641526",
   "outputs": [
    {
     "data": {
      "text/plain": [
       "8.774964387392123"
      ]
     },
     "execution_count": 79,
     "metadata": {},
     "output_type": "execute_result"
    }
   ],
   "execution_count": 79
  },
  {
   "metadata": {
    "ExecuteTime": {
     "end_time": "2025-02-07T15:16:55.240600Z",
     "start_time": "2025-02-07T15:16:55.236113Z"
    }
   },
   "cell_type": "code",
   "source": [
    "import numpy as np\n",
    "\n",
    "a = np.array([1, 1, 1])\n",
    "b = np.array([2, -4, 2])\n",
    "d = np.array([-1, 0, 1])\n",
    "\n",
    "c = np.cross(a, b)\n",
    "\n",
    "\n",
    "np.dot(b.T, c)"
   ],
   "id": "3c174b8e4fc0ed6d",
   "outputs": [
    {
     "data": {
      "text/plain": [
       "0"
      ]
     },
     "execution_count": 91,
     "metadata": {},
     "output_type": "execute_result"
    }
   ],
   "execution_count": 91
  },
  {
   "metadata": {
    "ExecuteTime": {
     "end_time": "2025-02-07T15:29:40.912461Z",
     "start_time": "2025-02-07T15:29:40.906481Z"
    }
   },
   "cell_type": "code",
   "source": [
    "import numpy as np\n",
    "\n",
    "# 定义旋转角度 (以弧度为单位)\n",
    "theta = np.pi / 4  # 45度\n",
    "\n",
    "# 生成二维旋转矩阵\n",
    "Q = np.array([\n",
    "    [np.cos(theta), -np.sin(theta)],\n",
    "    [np.sin(theta), np.cos(theta)]\n",
    "])\n",
    "\n",
    "# 计算 Q 的转置\n",
    "Q_T = Q.T\n",
    "\n",
    "# 计算 Q^T Q\n",
    "result = np.dot(Q_T, Q)\n",
    "\n",
    "print(\"Q:\")\n",
    "print(Q)\n",
    "print(\"\\nQ^T:\")\n",
    "print(Q_T)\n",
    "print(\"\\nQ^T Q:\")\n",
    "print(result)"
   ],
   "id": "b8cda1272e8fe36a",
   "outputs": [
    {
     "name": "stdout",
     "output_type": "stream",
     "text": [
      "Q:\n",
      "[[ 0.70710678 -0.70710678]\n",
      " [ 0.70710678  0.70710678]]\n",
      "\n",
      "Q^T:\n",
      "[[ 0.70710678  0.70710678]\n",
      " [-0.70710678  0.70710678]]\n",
      "\n",
      "Q^T Q:\n",
      "[[ 1.00000000e+00 -4.26642159e-17]\n",
      " [-4.26642159e-17  1.00000000e+00]]\n"
     ]
    }
   ],
   "execution_count": 96
  },
  {
   "metadata": {
    "ExecuteTime": {
     "end_time": "2025-02-11T13:10:46.595084Z",
     "start_time": "2025-02-11T13:10:46.282619Z"
    }
   },
   "cell_type": "code",
   "source": [
    "S = np.array([[8.5,9],[4.5,4],[33,1]]) #行商店 列水果的 价格\n",
    "H = np.array([[8,3,4],[3,4,5]]) #行水果列人员 购买数\n",
    "T = np.array([[1000,2000],[2000,3000]])#行人员 列城镇 购买数\n",
    "# 每个人在各个商店消费金额\n",
    "np.dot(H,S)\n",
    "# 每个城镇购买数量\n",
    "np.dot(T,S)"
   ],
   "id": "7b04517f11d6b3cc",
   "outputs": [
    {
     "ename": "NameError",
     "evalue": "name 'np' is not defined",
     "output_type": "error",
     "traceback": [
      "\u001B[1;31m---------------------------------------------------------------------------\u001B[0m",
      "\u001B[1;31mNameError\u001B[0m                                 Traceback (most recent call last)",
      "Cell \u001B[1;32mIn[1], line 1\u001B[0m\n\u001B[1;32m----> 1\u001B[0m S \u001B[38;5;241m=\u001B[39m np\u001B[38;5;241m.\u001B[39marray([[\u001B[38;5;241m8.5\u001B[39m,\u001B[38;5;241m9\u001B[39m],[\u001B[38;5;241m4.5\u001B[39m,\u001B[38;5;241m4\u001B[39m],[\u001B[38;5;241m33\u001B[39m,\u001B[38;5;241m1\u001B[39m]]) \u001B[38;5;66;03m#行商店 列水果的 价格\u001B[39;00m\n\u001B[0;32m      2\u001B[0m H \u001B[38;5;241m=\u001B[39m np\u001B[38;5;241m.\u001B[39marray([[\u001B[38;5;241m8\u001B[39m,\u001B[38;5;241m3\u001B[39m,\u001B[38;5;241m4\u001B[39m],[\u001B[38;5;241m3\u001B[39m,\u001B[38;5;241m4\u001B[39m,\u001B[38;5;241m5\u001B[39m]]) \u001B[38;5;66;03m#行水果列人员 购买数\u001B[39;00m\n\u001B[0;32m      3\u001B[0m T \u001B[38;5;241m=\u001B[39m np\u001B[38;5;241m.\u001B[39marray([[\u001B[38;5;241m1000\u001B[39m,\u001B[38;5;241m2000\u001B[39m],[\u001B[38;5;241m2000\u001B[39m,\u001B[38;5;241m3000\u001B[39m]])\u001B[38;5;66;03m#行人员 列城镇 购买数\u001B[39;00m\n",
      "\u001B[1;31mNameError\u001B[0m: name 'np' is not defined"
     ]
    }
   ],
   "execution_count": 1
  },
  {
   "metadata": {
    "ExecuteTime": {
     "end_time": "2025-02-11T13:10:59.648643Z",
     "start_time": "2025-02-11T13:10:59.644338Z"
    }
   },
   "cell_type": "code",
   "source": [
    "from sklearn.datasets import load_iris\n",
    "data = load_iris()\n",
    "\n"
   ],
   "id": "890360ab62839f8c",
   "outputs": [],
   "execution_count": 5
  },
  {
   "metadata": {
    "ExecuteTime": {
     "end_time": "2025-02-11T13:34:23.600167Z",
     "start_time": "2025-02-11T13:34:23.591783Z"
    }
   },
   "cell_type": "code",
   "source": [
    "import sympy as sp\n",
    "from sympy import *\n",
    "\n",
    "x , y, z ,w = symbols('x y z w')\n",
    "eq = [x+y+z-2,x+2*y+4*z-3,x+3*y+9*z-5]\n",
    "res = solve(eq, x, y, z)\n",
    "res"
   ],
   "id": "bbab3d37d9798fa0",
   "outputs": [
    {
     "data": {
      "text/plain": [
       "{x: 2, y: -1/2, z: 1/2}"
      ]
     },
     "execution_count": 16,
     "metadata": {},
     "output_type": "execute_result"
    }
   ],
   "execution_count": 16
  },
  {
   "metadata": {
    "ExecuteTime": {
     "end_time": "2025-02-11T13:34:25.908341Z",
     "start_time": "2025-02-11T13:34:25.899443Z"
    }
   },
   "cell_type": "code",
   "source": [
    "import numpy as np\n",
    "data.data\n",
    "mt = np.mat(data.data)\n",
    "mt"
   ],
   "id": "1e8a3b2e6eb0a9bd",
   "outputs": [
    {
     "data": {
      "text/plain": [
       "matrix([[5.1, 3.5, 1.4, 0.2],\n",
       "        [4.9, 3. , 1.4, 0.2],\n",
       "        [4.7, 3.2, 1.3, 0.2],\n",
       "        [4.6, 3.1, 1.5, 0.2],\n",
       "        [5. , 3.6, 1.4, 0.2],\n",
       "        [5.4, 3.9, 1.7, 0.4],\n",
       "        [4.6, 3.4, 1.4, 0.3],\n",
       "        [5. , 3.4, 1.5, 0.2],\n",
       "        [4.4, 2.9, 1.4, 0.2],\n",
       "        [4.9, 3.1, 1.5, 0.1],\n",
       "        [5.4, 3.7, 1.5, 0.2],\n",
       "        [4.8, 3.4, 1.6, 0.2],\n",
       "        [4.8, 3. , 1.4, 0.1],\n",
       "        [4.3, 3. , 1.1, 0.1],\n",
       "        [5.8, 4. , 1.2, 0.2],\n",
       "        [5.7, 4.4, 1.5, 0.4],\n",
       "        [5.4, 3.9, 1.3, 0.4],\n",
       "        [5.1, 3.5, 1.4, 0.3],\n",
       "        [5.7, 3.8, 1.7, 0.3],\n",
       "        [5.1, 3.8, 1.5, 0.3],\n",
       "        [5.4, 3.4, 1.7, 0.2],\n",
       "        [5.1, 3.7, 1.5, 0.4],\n",
       "        [4.6, 3.6, 1. , 0.2],\n",
       "        [5.1, 3.3, 1.7, 0.5],\n",
       "        [4.8, 3.4, 1.9, 0.2],\n",
       "        [5. , 3. , 1.6, 0.2],\n",
       "        [5. , 3.4, 1.6, 0.4],\n",
       "        [5.2, 3.5, 1.5, 0.2],\n",
       "        [5.2, 3.4, 1.4, 0.2],\n",
       "        [4.7, 3.2, 1.6, 0.2],\n",
       "        [4.8, 3.1, 1.6, 0.2],\n",
       "        [5.4, 3.4, 1.5, 0.4],\n",
       "        [5.2, 4.1, 1.5, 0.1],\n",
       "        [5.5, 4.2, 1.4, 0.2],\n",
       "        [4.9, 3.1, 1.5, 0.2],\n",
       "        [5. , 3.2, 1.2, 0.2],\n",
       "        [5.5, 3.5, 1.3, 0.2],\n",
       "        [4.9, 3.6, 1.4, 0.1],\n",
       "        [4.4, 3. , 1.3, 0.2],\n",
       "        [5.1, 3.4, 1.5, 0.2],\n",
       "        [5. , 3.5, 1.3, 0.3],\n",
       "        [4.5, 2.3, 1.3, 0.3],\n",
       "        [4.4, 3.2, 1.3, 0.2],\n",
       "        [5. , 3.5, 1.6, 0.6],\n",
       "        [5.1, 3.8, 1.9, 0.4],\n",
       "        [4.8, 3. , 1.4, 0.3],\n",
       "        [5.1, 3.8, 1.6, 0.2],\n",
       "        [4.6, 3.2, 1.4, 0.2],\n",
       "        [5.3, 3.7, 1.5, 0.2],\n",
       "        [5. , 3.3, 1.4, 0.2],\n",
       "        [7. , 3.2, 4.7, 1.4],\n",
       "        [6.4, 3.2, 4.5, 1.5],\n",
       "        [6.9, 3.1, 4.9, 1.5],\n",
       "        [5.5, 2.3, 4. , 1.3],\n",
       "        [6.5, 2.8, 4.6, 1.5],\n",
       "        [5.7, 2.8, 4.5, 1.3],\n",
       "        [6.3, 3.3, 4.7, 1.6],\n",
       "        [4.9, 2.4, 3.3, 1. ],\n",
       "        [6.6, 2.9, 4.6, 1.3],\n",
       "        [5.2, 2.7, 3.9, 1.4],\n",
       "        [5. , 2. , 3.5, 1. ],\n",
       "        [5.9, 3. , 4.2, 1.5],\n",
       "        [6. , 2.2, 4. , 1. ],\n",
       "        [6.1, 2.9, 4.7, 1.4],\n",
       "        [5.6, 2.9, 3.6, 1.3],\n",
       "        [6.7, 3.1, 4.4, 1.4],\n",
       "        [5.6, 3. , 4.5, 1.5],\n",
       "        [5.8, 2.7, 4.1, 1. ],\n",
       "        [6.2, 2.2, 4.5, 1.5],\n",
       "        [5.6, 2.5, 3.9, 1.1],\n",
       "        [5.9, 3.2, 4.8, 1.8],\n",
       "        [6.1, 2.8, 4. , 1.3],\n",
       "        [6.3, 2.5, 4.9, 1.5],\n",
       "        [6.1, 2.8, 4.7, 1.2],\n",
       "        [6.4, 2.9, 4.3, 1.3],\n",
       "        [6.6, 3. , 4.4, 1.4],\n",
       "        [6.8, 2.8, 4.8, 1.4],\n",
       "        [6.7, 3. , 5. , 1.7],\n",
       "        [6. , 2.9, 4.5, 1.5],\n",
       "        [5.7, 2.6, 3.5, 1. ],\n",
       "        [5.5, 2.4, 3.8, 1.1],\n",
       "        [5.5, 2.4, 3.7, 1. ],\n",
       "        [5.8, 2.7, 3.9, 1.2],\n",
       "        [6. , 2.7, 5.1, 1.6],\n",
       "        [5.4, 3. , 4.5, 1.5],\n",
       "        [6. , 3.4, 4.5, 1.6],\n",
       "        [6.7, 3.1, 4.7, 1.5],\n",
       "        [6.3, 2.3, 4.4, 1.3],\n",
       "        [5.6, 3. , 4.1, 1.3],\n",
       "        [5.5, 2.5, 4. , 1.3],\n",
       "        [5.5, 2.6, 4.4, 1.2],\n",
       "        [6.1, 3. , 4.6, 1.4],\n",
       "        [5.8, 2.6, 4. , 1.2],\n",
       "        [5. , 2.3, 3.3, 1. ],\n",
       "        [5.6, 2.7, 4.2, 1.3],\n",
       "        [5.7, 3. , 4.2, 1.2],\n",
       "        [5.7, 2.9, 4.2, 1.3],\n",
       "        [6.2, 2.9, 4.3, 1.3],\n",
       "        [5.1, 2.5, 3. , 1.1],\n",
       "        [5.7, 2.8, 4.1, 1.3],\n",
       "        [6.3, 3.3, 6. , 2.5],\n",
       "        [5.8, 2.7, 5.1, 1.9],\n",
       "        [7.1, 3. , 5.9, 2.1],\n",
       "        [6.3, 2.9, 5.6, 1.8],\n",
       "        [6.5, 3. , 5.8, 2.2],\n",
       "        [7.6, 3. , 6.6, 2.1],\n",
       "        [4.9, 2.5, 4.5, 1.7],\n",
       "        [7.3, 2.9, 6.3, 1.8],\n",
       "        [6.7, 2.5, 5.8, 1.8],\n",
       "        [7.2, 3.6, 6.1, 2.5],\n",
       "        [6.5, 3.2, 5.1, 2. ],\n",
       "        [6.4, 2.7, 5.3, 1.9],\n",
       "        [6.8, 3. , 5.5, 2.1],\n",
       "        [5.7, 2.5, 5. , 2. ],\n",
       "        [5.8, 2.8, 5.1, 2.4],\n",
       "        [6.4, 3.2, 5.3, 2.3],\n",
       "        [6.5, 3. , 5.5, 1.8],\n",
       "        [7.7, 3.8, 6.7, 2.2],\n",
       "        [7.7, 2.6, 6.9, 2.3],\n",
       "        [6. , 2.2, 5. , 1.5],\n",
       "        [6.9, 3.2, 5.7, 2.3],\n",
       "        [5.6, 2.8, 4.9, 2. ],\n",
       "        [7.7, 2.8, 6.7, 2. ],\n",
       "        [6.3, 2.7, 4.9, 1.8],\n",
       "        [6.7, 3.3, 5.7, 2.1],\n",
       "        [7.2, 3.2, 6. , 1.8],\n",
       "        [6.2, 2.8, 4.8, 1.8],\n",
       "        [6.1, 3. , 4.9, 1.8],\n",
       "        [6.4, 2.8, 5.6, 2.1],\n",
       "        [7.2, 3. , 5.8, 1.6],\n",
       "        [7.4, 2.8, 6.1, 1.9],\n",
       "        [7.9, 3.8, 6.4, 2. ],\n",
       "        [6.4, 2.8, 5.6, 2.2],\n",
       "        [6.3, 2.8, 5.1, 1.5],\n",
       "        [6.1, 2.6, 5.6, 1.4],\n",
       "        [7.7, 3. , 6.1, 2.3],\n",
       "        [6.3, 3.4, 5.6, 2.4],\n",
       "        [6.4, 3.1, 5.5, 1.8],\n",
       "        [6. , 3. , 4.8, 1.8],\n",
       "        [6.9, 3.1, 5.4, 2.1],\n",
       "        [6.7, 3.1, 5.6, 2.4],\n",
       "        [6.9, 3.1, 5.1, 2.3],\n",
       "        [5.8, 2.7, 5.1, 1.9],\n",
       "        [6.8, 3.2, 5.9, 2.3],\n",
       "        [6.7, 3.3, 5.7, 2.5],\n",
       "        [6.7, 3. , 5.2, 2.3],\n",
       "        [6.3, 2.5, 5. , 1.9],\n",
       "        [6.5, 3. , 5.2, 2. ],\n",
       "        [6.2, 3.4, 5.4, 2.3],\n",
       "        [5.9, 3. , 5.1, 1.8]])"
      ]
     },
     "execution_count": 17,
     "metadata": {},
     "output_type": "execute_result"
    }
   ],
   "execution_count": 17
  },
  {
   "metadata": {
    "ExecuteTime": {
     "end_time": "2025-02-11T13:45:58.774477Z",
     "start_time": "2025-02-11T13:45:58.768496Z"
    }
   },
   "cell_type": "code",
   "source": [
    "A = np.random.randint(1,20,(3,4))\n",
    "B = np.random.randint(1,20,(4,5))\n",
    "Mat_a = np.mat(A)\n",
    "Mat_b = np.mat(B)\n",
    "np.linalg.matrix_rank(A)\n",
    "np.dot(A,B)"
   ],
   "id": "b546f2cc2c4ccec5",
   "outputs": [
    {
     "data": {
      "text/plain": [
       "array([[388, 332, 297, 350, 540],\n",
       "       [377, 372, 300, 240, 508],\n",
       "       [611, 709, 519, 499, 771]])"
      ]
     },
     "execution_count": 33,
     "metadata": {},
     "output_type": "execute_result"
    }
   ],
   "execution_count": 33
  },
  {
   "metadata": {
    "ExecuteTime": {
     "end_time": "2025-02-11T13:49:00.973315Z",
     "start_time": "2025-02-11T13:49:00.965896Z"
    }
   },
   "cell_type": "code",
   "source": [
    "asd = np.array([[1,2,3],[2,2,1],[3,4,3]])\n",
    "np.linalg.det(asd)\n",
    "if np.linalg.det(asd) != 0:\n",
    "    np.mat(asd).T\n",
    "np.mat(asd).T"
   ],
   "id": "bd43890254e1a985",
   "outputs": [
    {
     "data": {
      "text/plain": [
       "matrix([[1, 2, 3],\n",
       "        [2, 2, 4],\n",
       "        [3, 1, 3]])"
      ]
     },
     "execution_count": 41,
     "metadata": {},
     "output_type": "execute_result"
    }
   ],
   "execution_count": 41
  },
  {
   "metadata": {
    "ExecuteTime": {
     "end_time": "2025-02-11T14:16:01.119840Z",
     "start_time": "2025-02-11T14:16:01.112477Z"
    }
   },
   "cell_type": "code",
   "source": [
    "op = np.random.uniform(1,20,(4,4))\n",
    "op\n",
    "\n",
    "ssj = np.triu(op,k=1)\n",
    "ssj\n",
    "xsj = np.tril(op,k=1)\n",
    "xsj\n",
    "np.fill_diagonal(ssj,xsj)\n",
    "print(np.diag(op))\n",
    "np.diag(np.diag(op))\n",
    "#可以根据矩阵加装置，然后减去对角线元素\n",
    "a = op + op.T - np.diag(np.diag(op))\n",
    "print(a)\n",
    "#可以根据上三角或下三角，分别求装置相加而得\n",
    "b = xsj + xsj.T\n",
    "print(b)\n",
    "b == b.T\n"
   ],
   "id": "af801cf6069cd381",
   "outputs": [
    {
     "ename": "SyntaxError",
     "evalue": "invalid character '，' (U+FF0C) (3507619712.py, line 11)",
     "output_type": "error",
     "traceback": [
      "\u001B[1;36m  Cell \u001B[1;32mIn[104], line 11\u001B[1;36m\u001B[0m\n\u001B[1;33m    可以根据矩阵加装置，然后减去对角线元素\u001B[0m\n\u001B[1;37m             ^\u001B[0m\n\u001B[1;31mSyntaxError\u001B[0m\u001B[1;31m:\u001B[0m invalid character '，' (U+FF0C)\n"
     ]
    }
   ],
   "execution_count": 104
  },
  {
   "metadata": {
    "ExecuteTime": {
     "end_time": "2025-02-11T14:53:42.790506Z",
     "start_time": "2025-02-11T14:53:42.786460Z"
    }
   },
   "cell_type": "code",
   "source": [
    "zero = np.zeros((3,3))\n",
    "np.identity(4)\n",
    "np.diag([1,2,3,4])"
   ],
   "id": "1a76517b34f992ea",
   "outputs": [
    {
     "data": {
      "text/plain": [
       "array([[1, 0, 0, 0],\n",
       "       [0, 2, 0, 0],\n",
       "       [0, 0, 3, 0],\n",
       "       [0, 0, 0, 4]])"
      ]
     },
     "execution_count": 113,
     "metadata": {},
     "output_type": "execute_result"
    }
   ],
   "execution_count": 113
  },
  {
   "metadata": {
    "ExecuteTime": {
     "end_time": "2025-02-12T14:50:25.380451Z",
     "start_time": "2025-02-12T14:50:25.093337Z"
    }
   },
   "cell_type": "code",
   "source": [
    "a = np.array([[-1,0,1],[1,2,0],[-4,0,3]])\n",
    "vel ,vex = np.linalg.eig(a)\n",
    "np.dot(a,vex) == vel*vex\n",
    "np.allclose(np.dot(a,vex),vel*vex)"
   ],
   "id": "84b079bd5127013",
   "outputs": [
    {
     "ename": "NameError",
     "evalue": "name 'np' is not defined",
     "output_type": "error",
     "traceback": [
      "\u001B[1;31m---------------------------------------------------------------------------\u001B[0m",
      "\u001B[1;31mNameError\u001B[0m                                 Traceback (most recent call last)",
      "Cell \u001B[1;32mIn[1], line 1\u001B[0m\n\u001B[1;32m----> 1\u001B[0m a \u001B[38;5;241m=\u001B[39m np\u001B[38;5;241m.\u001B[39marray([[\u001B[38;5;241m-\u001B[39m\u001B[38;5;241m1\u001B[39m,\u001B[38;5;241m0\u001B[39m,\u001B[38;5;241m1\u001B[39m],[\u001B[38;5;241m1\u001B[39m,\u001B[38;5;241m2\u001B[39m,\u001B[38;5;241m0\u001B[39m],[\u001B[38;5;241m-\u001B[39m\u001B[38;5;241m4\u001B[39m,\u001B[38;5;241m0\u001B[39m,\u001B[38;5;241m3\u001B[39m]])\n\u001B[0;32m      2\u001B[0m vel ,vex \u001B[38;5;241m=\u001B[39m np\u001B[38;5;241m.\u001B[39mlinalg\u001B[38;5;241m.\u001B[39meig(a)\n\u001B[0;32m      3\u001B[0m np\u001B[38;5;241m.\u001B[39mdot(a,vex) \u001B[38;5;241m==\u001B[39m vel\u001B[38;5;241m*\u001B[39mvex\n",
      "\u001B[1;31mNameError\u001B[0m: name 'np' is not defined"
     ]
    }
   ],
   "execution_count": 1
  },
  {
   "metadata": {
    "ExecuteTime": {
     "end_time": "2025-02-12T14:56:10.977886Z",
     "start_time": "2025-02-12T14:56:10.968325Z"
    }
   },
   "cell_type": "code",
   "source": [
    "import numpy as np\n",
    "\n",
    "# 定义矩阵 A\n",
    "A = np.array([[4, 1], [2, 3]])\n",
    "\n",
    "# 使用 numpy.linalg.eig 进行特征值分解\n",
    "eigenvalues, eigenvectors = np.linalg.eig(A)\n",
    "\n",
    "# 打印特征值和特征向量\n",
    "print(\"特征值 (Eigenvalues):\")\n",
    "print(eigenvalues)\n",
    "print(\"\\n特征向量 (Eigenvectors):\")\n",
    "print(eigenvectors)\n",
    "\n",
    "# 验证特征值分解\n",
    "# 构造对角矩阵 D\n",
    "D = np.diag(eigenvalues)\n",
    "\n",
    "# 验证 A = PDP^-1\n",
    "P = eigenvectors\n",
    "P_inv = np.linalg.inv(P)\n",
    "\n",
    "# 计算 PDP^-1\n",
    "A_reconstructed = P @ D @ P_inv\n",
    "\n",
    "print(\"\\n重构的矩阵 A:\")\n",
    "print(A_reconstructed)"
   ],
   "id": "4b778a3df4a9a5d0",
   "outputs": [
    {
     "name": "stdout",
     "output_type": "stream",
     "text": [
      "特征值 (Eigenvalues):\n",
      "[5. 2.]\n",
      "\n",
      "特征向量 (Eigenvectors):\n",
      "[[ 0.70710678 -0.4472136 ]\n",
      " [ 0.70710678  0.89442719]]\n",
      "\n",
      "重构的矩阵 A:\n",
      "[[4. 1.]\n",
      " [2. 3.]]\n"
     ]
    }
   ],
   "execution_count": 3
  },
  {
   "metadata": {
    "ExecuteTime": {
     "end_time": "2025-02-13T02:37:27.312815Z",
     "start_time": "2025-02-13T02:37:27.299817Z"
    }
   },
   "cell_type": "code",
   "source": [
    "import numpy as np\n",
    "\n",
    "# 定义矩阵 A\n",
    "A = np.array([[1, 2], [3, 4], [5, 6]])\n",
    "\n",
    "# 使用 numpy.linalg.svd 进行 SVD 分解\n",
    "U, S, VT = np.linalg.svd(A, full_matrices=True)\n",
    "\n",
    "# 打印结果\n",
    "print(\"矩阵 A:\")\n",
    "print(A)\n",
    "print(\"\\n左奇异向量矩阵 U:a\")\n",
    "print(U)\n",
    "print(\"\\n奇异值矩阵 Σ（对角线元素）:\")\n",
    "print(S)\n",
    "print(\"\\n右奇异向量矩阵 V^T:\")\n",
    "print(VT)\n",
    "\n",
    "# 验证 SVD 分解\n",
    "# 构造对角矩阵 Σ\n",
    "Sigma = np.zeros(A.shape)\n",
    "np.fill_diagonal(Sigma, S)\n",
    "\n",
    "# 重构矩阵 A\n",
    "A_reconstructed = U.dot(Sigma @ VT.T)\n",
    "\n",
    "print(\"\\n重构的矩阵 A:\")\n",
    "print(A_reconstructed)"
   ],
   "id": "1307a585f0c0e0a1",
   "outputs": [
    {
     "name": "stdout",
     "output_type": "stream",
     "text": [
      "矩阵 A:\n",
      "[[1 2]\n",
      " [3 4]\n",
      " [5 6]]\n",
      "\n",
      "左奇异向量矩阵 U:\n",
      "[[-0.2298477   0.88346102  0.40824829]\n",
      " [-0.52474482  0.24078249 -0.81649658]\n",
      " [-0.81964194 -0.40189603  0.40824829]]\n",
      "\n",
      "奇异值矩阵 Σ（对角线元素）:\n",
      "[9.52551809 0.51430058]\n",
      "\n",
      "右奇异向量矩阵 V^T:\n",
      "[[-0.61962948 -0.78489445]\n",
      " [-0.78489445  0.61962948]]\n",
      "\n",
      "重构的矩阵 A:\n",
      "[[1. 2.]\n",
      " [3. 4.]\n",
      " [5. 6.]]\n"
     ]
    }
   ],
   "execution_count": 2
  },
  {
   "metadata": {
    "ExecuteTime": {
     "end_time": "2025-02-13T03:25:41.163693Z",
     "start_time": "2025-02-13T03:25:41.151793Z"
    }
   },
   "cell_type": "code",
   "source": [
    "import numpy as np\n",
    "\n",
    "A = np.array([[1,1],[1,1],[0,0]])\n",
    "left_B = A.dot(A.T)\n",
    "right_B = A.T.dot(A)\n",
    "left_B_vel, left_B_vex = np.linalg.eig(left_B)\n",
    "right_B_vel, right_B_vex = np.linalg.eig(right_B)\n",
    "diag_A = np.diag(A)\n",
    "\n",
    "singular_values = np.sqrt(np.sort(np.abs(left_B_vel))[::-1])\n",
    "\n",
    "# 构建奇异值矩阵 Sigma\n",
    "m, n = A.shape\n",
    "Sigma = np.zeros((m, n))\n",
    "\n",
    "np.fill_diagonal(Sigma, singular_values[:min(m, n)])\n",
    "print(Sigma)\n",
    "\n",
    "\n",
    "print(\"左奇异矩阵的特征向量和特征值\\n\",left_B_vel, \"\\n\", left_B_vex)\n",
    "print(\"右奇异矩阵的特征向量和特征值\\n\",right_B_vel, \"\\n\", right_B_vex)\n",
    "print(\"对角元素：\\n\",diag_A)\n",
    "\n",
    "left_B_vex.dot(Sigma.dot(right_B_vex.T))"
   ],
   "id": "21bab71c9f4229f7",
   "outputs": [
    {
     "name": "stdout",
     "output_type": "stream",
     "text": [
      "[[2.00000000e+00 0.00000000e+00]\n",
      " [0.00000000e+00 2.10734243e-08]\n",
      " [0.00000000e+00 0.00000000e+00]]\n",
      "左奇异矩阵的特征向量和特征值\n",
      " [4.0000000e+00 4.4408921e-16 0.0000000e+00] \n",
      " [[ 0.70710678 -0.70710678  0.        ]\n",
      " [ 0.70710678  0.70710678  0.        ]\n",
      " [ 0.          0.          1.        ]]\n",
      "右奇异矩阵的特征向量和特征值\n",
      " [4.0000000e+00 4.4408921e-16] \n",
      " [[ 0.70710678 -0.70710678]\n",
      " [ 0.70710678  0.70710678]]\n",
      "对角元素：\n",
      " [1 1]\n"
     ]
    },
    {
     "data": {
      "text/plain": [
       "array([[1.00000001, 0.99999999],\n",
       "       [0.99999999, 1.00000001],\n",
       "       [0.        , 0.        ]])"
      ]
     },
     "execution_count": 48,
     "metadata": {},
     "output_type": "execute_result"
    }
   ],
   "execution_count": 48
  },
  {
   "metadata": {
    "ExecuteTime": {
     "end_time": "2025-02-13T03:37:12.029942Z",
     "start_time": "2025-02-13T03:37:12.022594Z"
    }
   },
   "cell_type": "code",
   "source": [
    "A = np.array([[1,1],[1,1],[0,0]])\n",
    "U, S, UT = np.linalg.svd(A)\n",
    "Sigma = np.zeros(A.shape)\n",
    "np.fill_diagonal(Sigma, S)\n",
    "U.dot(Sigma.dot(UT))"
   ],
   "id": "a8c13fc4e8513d1c",
   "outputs": [
    {
     "data": {
      "text/plain": [
       "array([[1., 1.],\n",
       "       [1., 1.],\n",
       "       [0., 0.]])"
      ]
     },
     "execution_count": 80,
     "metadata": {},
     "output_type": "execute_result"
    }
   ],
   "execution_count": 80
  },
  {
   "metadata": {
    "ExecuteTime": {
     "end_time": "2025-02-13T03:35:57.045001Z",
     "start_time": "2025-02-13T03:35:57.036136Z"
    }
   },
   "cell_type": "code",
   "source": [
    "import numpy as np\n",
    "\n",
    "# 定义原始矩阵 A\n",
    "A = np.array([[45, 55], [46, 13], [5, 8]])\n",
    "\n",
    "# 进行奇异值分解\n",
    "U, S, VT = np.linalg.svd(A)\n",
    "\n",
    "# 定义 k 值，这里假设 k = 1\n",
    "k = 2\n",
    "# 只保留前 k 个奇异值\n",
    "S_k = S[:k]\n",
    "\n",
    "# 只保留 U 矩阵的前 k 列\n",
    "U_k = U[:, :k]\n",
    "\n",
    "# 只保留 VT 矩阵的前 k 行\n",
    "VT_k = VT[:k, :]\n",
    "\n",
    "# 构建只包含前 k 个奇异值的对角矩阵 Sigma_k\n",
    "Sigma_k = np.zeros((U_k.shape[1], VT_k.shape[0]))\n",
    "np.fill_diagonal(Sigma_k, S_k)\n",
    "\n",
    "# 重构相似矩阵 A_k\n",
    "A_k = U_k.dot(Sigma_k).dot(VT_k)\n",
    "\n",
    "print(\"原始矩阵 A:\\n\", A)\n",
    "print(\"根据前 {} 个奇异值重构的相似矩阵 A_k:\\n\".format(k), A_k)"
   ],
   "id": "43d0da6cf7b82fc4",
   "outputs": [
    {
     "name": "stdout",
     "output_type": "stream",
     "text": [
      "原始矩阵 A:\n",
      " [[45 55]\n",
      " [46 13]\n",
      " [ 5  8]]\n",
      "根据前 2 个奇异值重构的相似矩阵 A_k:\n",
      " [[45. 55.]\n",
      " [46. 13.]\n",
      " [ 5.  8.]]\n"
     ]
    }
   ],
   "execution_count": 79
  }
 ],
 "metadata": {
  "kernelspec": {
   "display_name": "Python 3",
   "language": "python",
   "name": "python3"
  },
  "language_info": {
   "codemirror_mode": {
    "name": "ipython",
    "version": 2
   },
   "file_extension": ".py",
   "mimetype": "text/x-python",
   "name": "python",
   "nbconvert_exporter": "python",
   "pygments_lexer": "ipython2",
   "version": "2.7.6"
  }
 },
 "nbformat": 4,
 "nbformat_minor": 5
}
